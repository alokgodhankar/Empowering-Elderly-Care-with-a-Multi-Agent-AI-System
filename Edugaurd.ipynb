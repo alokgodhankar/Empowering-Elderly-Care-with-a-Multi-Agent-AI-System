{
  "nbformat": 4,
  "nbformat_minor": 0,
  "metadata": {
    "colab": {
      "provenance": [],
      "authorship_tag": "ABX9TyOCi2WhRB4bStrbU7ySbkxK",
      "include_colab_link": true
    },
    "kernelspec": {
      "name": "python3",
      "display_name": "Python 3"
    },
    "language_info": {
      "name": "python"
    }
  },
  "cells": [
    {
      "cell_type": "markdown",
      "metadata": {
        "id": "view-in-github",
        "colab_type": "text"
      },
      "source": [
        "<a href=\"https://colab.research.google.com/github/alokgodhankar/Empowering-Elderly-Care-with-a-Multi-Agent-AI-System/blob/master/Edugaurd.ipynb\" target=\"_parent\"><img src=\"https://colab.research.google.com/assets/colab-badge.svg\" alt=\"Open In Colab\"/></a>"
      ]
    },
    {
      "cell_type": "code",
      "execution_count": null,
      "metadata": {
        "id": "pJqMcE_0cCR-"
      },
      "outputs": [],
      "source": [
        "!pip install gTTS playsound==1.2.2 --quiet\n"
      ]
    },
    {
      "cell_type": "code",
      "source": [
        "# Health Agent - Check for abnormal health values\n",
        "\n",
        "def health_monitor(heart_rate, bp_sys, bp_dia):\n",
        "    alerts = []\n",
        "\n",
        "    if heart_rate < 50 or heart_rate > 100:\n",
        "        alerts.append(f\"⚠️ Abnormal Heart Rate detected: {heart_rate} bpm\")\n",
        "    if bp_sys < 90 or bp_sys > 140:\n",
        "        alerts.append(f\"⚠️ Abnormal Systolic BP: {bp_sys} mmHg\")\n",
        "    if bp_dia < 60 or bp_dia > 90:\n",
        "        alerts.append(f\"⚠️ Abnormal Diastolic BP: {bp_dia} mmHg\")\n",
        "\n",
        "    return alerts\n",
        "\n",
        "# Simulated input\n",
        "alerts_health = health_monitor(heart_rate=120, bp_sys=150, bp_dia=95)\n",
        "for alert in alerts_health:\n",
        "    print(alert)\n"
      ],
      "metadata": {
        "colab": {
          "base_uri": "https://localhost:8080/"
        },
        "id": "RgE7YUV0cWy0",
        "outputId": "044eb36a-f37c-408c-e551-725f0727bbb1"
      },
      "execution_count": null,
      "outputs": [
        {
          "output_type": "stream",
          "name": "stdout",
          "text": [
            "⚠️ Abnormal Heart Rate detected: 120 bpm\n",
            "⚠️ Abnormal Systolic BP: 150 mmHg\n",
            "⚠️ Abnormal Diastolic BP: 95 mmHg\n"
          ]
        }
      ]
    },
    {
      "cell_type": "code",
      "source": [
        "# Safety Agent - Detect inactivity or fall (simulated)\n",
        "\n",
        "def safety_monitor(movement_status, fall_detected):\n",
        "    alerts = []\n",
        "\n",
        "    if movement_status == \"inactive\":\n",
        "        alerts.append(\"⚠️ No movement detected for a long time.\")\n",
        "    if fall_detected:\n",
        "        alerts.append(\"🚨 Fall detected!\")\n",
        "\n",
        "    return alerts\n",
        "\n",
        "# Simulated input\n",
        "alerts_safety = safety_monitor(movement_status=\"inactive\", fall_detected=True)\n",
        "for alert in alerts_safety:\n",
        "    print(alert)\n"
      ],
      "metadata": {
        "colab": {
          "base_uri": "https://localhost:8080/"
        },
        "id": "W4j9VIUOcau6",
        "outputId": "e5f55bbb-f023-41c6-ae3b-70c8e88a17d0"
      },
      "execution_count": null,
      "outputs": [
        {
          "output_type": "stream",
          "name": "stdout",
          "text": [
            "⚠️ No movement detected for a long time.\n",
            "🚨 Fall detected!\n"
          ]
        }
      ]
    },
    {
      "cell_type": "code",
      "source": [
        "from gtts import gTTS\n",
        "import os\n",
        "\n",
        "# Reminder Agent - Create voice reminder\n",
        "def send_reminder(message, filename=\"reminder.mp3\"):\n",
        "    tts = gTTS(message)\n",
        "    tts.save(filename)\n",
        "    print(f\"✅ Reminder created: {message}\")\n",
        "    # You can play this locally if you're not on Colab:\n",
        "    # from playsound import playsound\n",
        "    # playsound(filename)\n",
        "\n",
        "# Example reminder\n",
        "send_reminder(\"It's time to take your medication and drink water.\")\n"
      ],
      "metadata": {
        "colab": {
          "base_uri": "https://localhost:8080/"
        },
        "id": "dUNsXrouch6e",
        "outputId": "7790872f-1b50-4582-cc64-680b93dadfbd"
      },
      "execution_count": null,
      "outputs": [
        {
          "output_type": "stream",
          "name": "stdout",
          "text": [
            "✅ Reminder created: It's time to take your medication and drink water.\n"
          ]
        }
      ]
    },
    {
      "cell_type": "code",
      "source": [
        "# Central Agent - Log and notify alerts\n",
        "def coordinator(health_alerts, safety_alerts):\n",
        "    all_alerts = health_alerts + safety_alerts\n",
        "    print(\"\\n🧠 Central Coordinator Log:\")\n",
        "    if all_alerts:\n",
        "        for alert in all_alerts:\n",
        "            print(\"🔔\", alert)\n",
        "        print(\"📢 Sending alerts to caregiver...\")\n",
        "    else:\n",
        "        print(\"✅ All systems normal. No action needed.\")\n",
        "\n",
        "# Combine all alerts\n",
        "coordinator(alerts_health, alerts_safety)\n"
      ],
      "metadata": {
        "colab": {
          "base_uri": "https://localhost:8080/"
        },
        "id": "dKJSdrURcoLE",
        "outputId": "2b6d8b95-8621-428c-f115-3ed85919da65"
      },
      "execution_count": null,
      "outputs": [
        {
          "output_type": "stream",
          "name": "stdout",
          "text": [
            "\n",
            "🧠 Central Coordinator Log:\n",
            "🔔 ⚠️ Abnormal Heart Rate detected: 120 bpm\n",
            "🔔 ⚠️ Abnormal Systolic BP: 150 mmHg\n",
            "🔔 ⚠️ Abnormal Diastolic BP: 95 mmHg\n",
            "🔔 ⚠️ No movement detected for a long time.\n",
            "🔔 🚨 Fall detected!\n",
            "📢 Sending alerts to caregiver...\n"
          ]
        }
      ]
    },
    {
      "cell_type": "code",
      "source": [
        "def run_full_system():\n",
        "    print(\"🔄 Running Multi-Agent Elderly Care System...\\n\")\n",
        "\n",
        "    health = health_monitor(heart_rate=120, bp_sys=150, bp_dia=95)\n",
        "    safety = safety_monitor(movement_status=\"inactive\", fall_detected=True)\n",
        "    send_reminder(\"It's time to take your medication.\")\n",
        "    coordinator(health, safety)\n",
        "\n",
        "run_full_system()\n"
      ],
      "metadata": {
        "colab": {
          "base_uri": "https://localhost:8080/"
        },
        "id": "Xy8SOmXfcvoR",
        "outputId": "ead6836b-e91c-46a7-ecf5-4c04b1261e7f"
      },
      "execution_count": null,
      "outputs": [
        {
          "output_type": "stream",
          "name": "stdout",
          "text": [
            "🔄 Running Multi-Agent Elderly Care System...\n",
            "\n",
            "✅ Reminder created: It's time to take your medication.\n",
            "\n",
            "🧠 Central Coordinator Log:\n",
            "🔔 ⚠️ Abnormal Heart Rate detected: 120 bpm\n",
            "🔔 ⚠️ Abnormal Systolic BP: 150 mmHg\n",
            "🔔 ⚠️ Abnormal Diastolic BP: 95 mmHg\n",
            "🔔 ⚠️ No movement detected for a long time.\n",
            "🔔 🚨 Fall detected!\n",
            "📢 Sending alerts to caregiver...\n"
          ]
        }
      ]
    },
    {
      "cell_type": "code",
      "source": [],
      "metadata": {
        "id": "bujaQt40c0Eq"
      },
      "execution_count": null,
      "outputs": []
    }
  ]
}